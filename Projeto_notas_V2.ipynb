{
  "nbformat": 4,
  "nbformat_minor": 0,
  "metadata": {
    "colab": {
      "provenance": [],
      "authorship_tag": "ABX9TyMth1nMh8f+rh8M03YM4K/O",
      "include_colab_link": true
    },
    "kernelspec": {
      "name": "python3",
      "display_name": "Python 3"
    },
    "language_info": {
      "name": "python"
    }
  },
  "cells": [
    {
      "cell_type": "markdown",
      "metadata": {
        "id": "view-in-github",
        "colab_type": "text"
      },
      "source": [
        "<a href=\"https://colab.research.google.com/github/Kaetano-Rodrigues/Kaetano-Rodrigues/blob/main/Projeto_notas_V2.ipynb\" target=\"_parent\"><img src=\"https://colab.research.google.com/assets/colab-badge.svg\" alt=\"Open In Colab\"/></a>"
      ]
    },
    {
      "cell_type": "code",
      "execution_count": 12,
      "metadata": {
        "colab": {
          "base_uri": "https://localhost:8080/"
        },
        "id": "jKp3ZXouWqAZ",
        "outputId": "5e188483-c0d2-4cb3-a0af-d37af00c3e86"
      },
      "outputs": [
        {
          "output_type": "stream",
          "name": "stdout",
          "text": [
            "Requirement already satisfied: PyPDF2 in /usr/local/lib/python3.10/dist-packages (3.0.1)\n",
            "Requirement already satisfied: pdfplumber in /usr/local/lib/python3.10/dist-packages (0.10.3)\n",
            "Requirement already satisfied: pandas in /usr/local/lib/python3.10/dist-packages (1.5.3)\n",
            "Collecting files\n",
            "  Downloading files-1.1.1.tar.gz (10 kB)\n",
            "  Preparing metadata (setup.py) ... \u001b[?25l\u001b[?25hdone\n",
            "Requirement already satisfied: pdfminer.six==20221105 in /usr/local/lib/python3.10/dist-packages (from pdfplumber) (20221105)\n",
            "Requirement already satisfied: Pillow>=9.1 in /usr/local/lib/python3.10/dist-packages (from pdfplumber) (9.4.0)\n",
            "Requirement already satisfied: pypdfium2>=4.18.0 in /usr/local/lib/python3.10/dist-packages (from pdfplumber) (4.26.0)\n",
            "Requirement already satisfied: charset-normalizer>=2.0.0 in /usr/local/lib/python3.10/dist-packages (from pdfminer.six==20221105->pdfplumber) (3.3.2)\n",
            "Requirement already satisfied: cryptography>=36.0.0 in /usr/local/lib/python3.10/dist-packages (from pdfminer.six==20221105->pdfplumber) (41.0.7)\n",
            "Requirement already satisfied: python-dateutil>=2.8.1 in /usr/local/lib/python3.10/dist-packages (from pandas) (2.8.2)\n",
            "Requirement already satisfied: pytz>=2020.1 in /usr/local/lib/python3.10/dist-packages (from pandas) (2023.3.post1)\n",
            "Requirement already satisfied: numpy>=1.21.0 in /usr/local/lib/python3.10/dist-packages (from pandas) (1.23.5)\n",
            "Requirement already satisfied: six>=1.5 in /usr/local/lib/python3.10/dist-packages (from python-dateutil>=2.8.1->pandas) (1.16.0)\n",
            "Requirement already satisfied: cffi>=1.12 in /usr/local/lib/python3.10/dist-packages (from cryptography>=36.0.0->pdfminer.six==20221105->pdfplumber) (1.16.0)\n",
            "Requirement already satisfied: pycparser in /usr/local/lib/python3.10/dist-packages (from cffi>=1.12->cryptography>=36.0.0->pdfminer.six==20221105->pdfplumber) (2.21)\n",
            "Building wheels for collected packages: files\n",
            "  Building wheel for files (setup.py) ... \u001b[?25l\u001b[?25hdone\n",
            "  Created wheel for files: filename=files-1.1.1-py3-none-any.whl size=3647 sha256=59f8657189bc9d849736023c3ac08196fbebca46860eb4d3037fcbd6b15351c0\n",
            "  Stored in directory: /root/.cache/pip/wheels/7b/5a/b5/b363f1d4d991bd2a9199fd2bf46574a5477c0c7f8a22881848\n",
            "Successfully built files\n",
            "Installing collected packages: files\n",
            "Successfully installed files-1.1.1\n"
          ]
        }
      ],
      "source": [
        "pip install PyPDF2 pdfplumber pandas files\n"
      ]
    },
    {
      "cell_type": "code",
      "source": [
        "import pdfplumber\n",
        "import re\n",
        "import pandas as pd\n",
        "import os\n",
        "\n",
        "# Lista de arquivos PDF\n",
        "pdf_files = [\"322900.pdf\", \"288141.pdf\", \"267998.pdf\"]\n",
        "\n",
        "# Dicionário para armazenar os dados de todos os PDFs\n",
        "all_data = []\n",
        "\n",
        "# Percorra cada arquivo PDF na lista\n",
        "for pdf_file in pdf_files:\n",
        "    with pdfplumber.open(pdf_file) as pdf:\n",
        "        # Dicionário para armazenar os campos e valores do PDF atual\n",
        "        data = {}\n",
        "\n",
        "        # Percorra cada página do PDF\n",
        "        for page in pdf.pages:\n",
        "            # Extraia o texto da página\n",
        "            text = page.extract_text()\n",
        "\n",
        "            # Divida o texto em linhas\n",
        "            lines = text.split('\\n')\n",
        "\n",
        "            # Percorra cada linha\n",
        "            for line in lines:\n",
        "                # Verifique se a linha contém algum dos campos desejados\n",
        "                for field in [\"Invoice Number\", \"Invoice Date\", \"Currency\", \"Order Number\", \"Purchase Order\", \"Payment Terms\", \"Item\", \"Unit\", \"Price\", \"Qty\", \"Discount\", \"Amount\"]:\n",
        "                    # Use expressão regular para encontrar o valor associado ao campo\n",
        "                    match = re.search(f'{field}:(.*)', line)\n",
        "                    if match:\n",
        "                        value = match.group(1).strip()\n",
        "                        # Adicione ao dicionário de dados\n",
        "                        data[field] = value\n",
        "\n",
        "        # Adicione os dados do PDF atual à lista\n",
        "        all_data.append(data)\n",
        "\n",
        "# Crie um DataFrame a partir da lista de dados\n",
        "df = pd.DataFrame(all_data)\n",
        "\n",
        "# Salve o DataFrame em um arquivo Excel\n",
        "output_file = 'output_combined.xlsx'\n",
        "df.to_excel(output_file, index=False)\n",
        "\n",
        "print(f\"Dados de todos os PDFs extraídos e salvos em '{output_file}'.\")\n"
      ],
      "metadata": {
        "colab": {
          "base_uri": "https://localhost:8080/"
        },
        "id": "1cjyrjdnW0XS",
        "outputId": "86000a72-03bc-4203-986b-102aebf91bc5"
      },
      "execution_count": 16,
      "outputs": [
        {
          "output_type": "stream",
          "name": "stdout",
          "text": [
            "Dados de todos os PDFs extraídos e salvos em 'output_combined.xlsx'.\n"
          ]
        }
      ]
    }
  ]
}